{
 "cells": [
  {
   "cell_type": "markdown",
   "id": "ab248ba9",
   "metadata": {},
   "source": [
    "# Data With Danny SQL Challenge\n",
    "## Case Study #1 - Danny's Diner\n",
    "<br>\n",
    "\n",
    "- The 8 Week SQL Challenge is brought to the [Data With Danny](https://www.datawithdanny.com).\n",
    "- To know more information about this challenge, [Click Here](https://8weeksqlchallenge.com/about/)."
   ]
  },
  {
   "cell_type": "markdown",
   "id": "d72696db",
   "metadata": {},
   "source": [
    "### Note: To install the IPython sql library:\n",
    "\n",
    "```!pip install ipython-sql```"
   ]
  },
  {
   "cell_type": "code",
   "execution_count": 1,
   "id": "ba8452ef",
   "metadata": {},
   "outputs": [],
   "source": [
    "%%capture\n",
    "%load_ext sql\n",
    "%sql sqlite:///1_Dannys_Diner.db"
   ]
  },
  {
   "cell_type": "markdown",
   "id": "a0284f6d",
   "metadata": {},
   "source": [
    "**1. What is the total amount each customer spent at the restaurant?**"
   ]
  },
  {
   "cell_type": "code",
   "execution_count": 2,
   "id": "1ff28a15",
   "metadata": {
    "scrolled": false
   },
   "outputs": [
    {
     "name": "stdout",
     "output_type": "stream",
     "text": [
      " * sqlite:///1_Dannys_Diner.db\n",
      "Done.\n"
     ]
    },
    {
     "data": {
      "text/html": [
       "<table>\n",
       "    <tr>\n",
       "        <th>Customer</th>\n",
       "        <th>Spendings</th>\n",
       "    </tr>\n",
       "    <tr>\n",
       "        <td>A</td>\n",
       "        <td>76</td>\n",
       "    </tr>\n",
       "    <tr>\n",
       "        <td>B</td>\n",
       "        <td>74</td>\n",
       "    </tr>\n",
       "    <tr>\n",
       "        <td>C</td>\n",
       "        <td>36</td>\n",
       "    </tr>\n",
       "</table>"
      ],
      "text/plain": [
       "[('A', 76), ('B', 74), ('C', 36)]"
      ]
     },
     "execution_count": 2,
     "metadata": {},
     "output_type": "execute_result"
    }
   ],
   "source": [
    "%%sql\n",
    "\n",
    "SELECT sales.customer_id AS Customer,\n",
    "    SUM(menu.price) AS Spendings\n",
    "FROM sales\n",
    "    Join menu USING (product_id)\n",
    "GROUP BY Customer;"
   ]
  },
  {
   "cell_type": "markdown",
   "id": "352e3c59",
   "metadata": {},
   "source": [
    "**2. How many days has each customer visited the restaurant?**"
   ]
  },
  {
   "cell_type": "code",
   "execution_count": 3,
   "id": "7b02104b",
   "metadata": {},
   "outputs": [
    {
     "name": "stdout",
     "output_type": "stream",
     "text": [
      " * sqlite:///1_Dannys_Diner.db\n",
      "Done.\n"
     ]
    },
    {
     "data": {
      "text/html": [
       "<table>\n",
       "    <tr>\n",
       "        <th>Customer</th>\n",
       "        <th>Days</th>\n",
       "    </tr>\n",
       "    <tr>\n",
       "        <td>A</td>\n",
       "        <td>4</td>\n",
       "    </tr>\n",
       "    <tr>\n",
       "        <td>B</td>\n",
       "        <td>6</td>\n",
       "    </tr>\n",
       "    <tr>\n",
       "        <td>C</td>\n",
       "        <td>2</td>\n",
       "    </tr>\n",
       "</table>"
      ],
      "text/plain": [
       "[('A', 4), ('B', 6), ('C', 2)]"
      ]
     },
     "execution_count": 3,
     "metadata": {},
     "output_type": "execute_result"
    }
   ],
   "source": [
    "%%sql\n",
    "\n",
    "SELECT customer_id AS Customer,\n",
    "    COUNT(DISTINCT order_date) AS Days\n",
    "FROM sales\n",
    "GROUP BY Customer;"
   ]
  },
  {
   "cell_type": "markdown",
   "id": "cc23b9c7",
   "metadata": {},
   "source": [
    "**3. What was the first item from the menu purchased by each customer?**"
   ]
  },
  {
   "cell_type": "code",
   "execution_count": 4,
   "id": "6b1a23e6",
   "metadata": {},
   "outputs": [
    {
     "name": "stdout",
     "output_type": "stream",
     "text": [
      " * sqlite:///1_Dannys_Diner.db\n",
      "Done.\n"
     ]
    },
    {
     "data": {
      "text/html": [
       "<table>\n",
       "    <tr>\n",
       "        <th>Customer</th>\n",
       "        <th>First_Item</th>\n",
       "    </tr>\n",
       "    <tr>\n",
       "        <td>A</td>\n",
       "        <td>sushi</td>\n",
       "    </tr>\n",
       "    <tr>\n",
       "        <td>A</td>\n",
       "        <td>curry</td>\n",
       "    </tr>\n",
       "    <tr>\n",
       "        <td>B</td>\n",
       "        <td>curry</td>\n",
       "    </tr>\n",
       "    <tr>\n",
       "        <td>C</td>\n",
       "        <td>ramen</td>\n",
       "    </tr>\n",
       "</table>"
      ],
      "text/plain": [
       "[('A', 'sushi'), ('A', 'curry'), ('B', 'curry'), ('C', 'ramen')]"
      ]
     },
     "execution_count": 4,
     "metadata": {},
     "output_type": "execute_result"
    }
   ],
   "source": [
    "%%sql\n",
    "\n",
    "SELECT DISTINCT sales.customer_id AS Customer,\n",
    "    menu.product_name AS First_Item\n",
    "FROM sales\n",
    "    Join menu USING (product_id)\n",
    "WHERE order_date = (SELECT MIN(order_date) FROM sales);"
   ]
  },
  {
   "cell_type": "markdown",
   "id": "ef52d0e9",
   "metadata": {},
   "source": [
    "**4. What is the most purchased item on the menu and how many times was it purchased by all customers?**"
   ]
  },
  {
   "cell_type": "code",
   "execution_count": 5,
   "id": "473ad91c",
   "metadata": {
    "scrolled": true
   },
   "outputs": [
    {
     "name": "stdout",
     "output_type": "stream",
     "text": [
      " * sqlite:///1_Dannys_Diner.db\n",
      "Done.\n"
     ]
    },
    {
     "data": {
      "text/html": [
       "<table>\n",
       "    <tr>\n",
       "        <th>Most_Purchased</th>\n",
       "        <th>Times_Purchased</th>\n",
       "    </tr>\n",
       "    <tr>\n",
       "        <td>ramen</td>\n",
       "        <td>8</td>\n",
       "    </tr>\n",
       "</table>"
      ],
      "text/plain": [
       "[('ramen', 8)]"
      ]
     },
     "execution_count": 5,
     "metadata": {},
     "output_type": "execute_result"
    }
   ],
   "source": [
    "%%sql\n",
    "\n",
    "SELECT menu.product_name AS Most_Purchased,\n",
    "    count(sales.product_id) AS Times_Purchased\n",
    "FROM sales\n",
    "    JOIN menu USING (product_id)\n",
    "GROUP BY Most_Purchased\n",
    "ORDER BY Times_Purchased DESC\n",
    "LIMIT 1;"
   ]
  },
  {
   "cell_type": "markdown",
   "id": "16d3329a",
   "metadata": {},
   "source": [
    "**5. Which item was the most popular for each customer?**"
   ]
  },
  {
   "cell_type": "code",
   "execution_count": 6,
   "id": "0285b0ea",
   "metadata": {},
   "outputs": [
    {
     "name": "stdout",
     "output_type": "stream",
     "text": [
      " * sqlite:///1_Dannys_Diner.db\n",
      "Done.\n"
     ]
    },
    {
     "data": {
      "text/html": [
       "<table>\n",
       "    <tr>\n",
       "        <th>Customer</th>\n",
       "        <th>Product</th>\n",
       "    </tr>\n",
       "    <tr>\n",
       "        <td>A</td>\n",
       "        <td>ramen</td>\n",
       "    </tr>\n",
       "    <tr>\n",
       "        <td>B</td>\n",
       "        <td>curry</td>\n",
       "    </tr>\n",
       "    <tr>\n",
       "        <td>B</td>\n",
       "        <td>ramen</td>\n",
       "    </tr>\n",
       "    <tr>\n",
       "        <td>B</td>\n",
       "        <td>sushi</td>\n",
       "    </tr>\n",
       "    <tr>\n",
       "        <td>C</td>\n",
       "        <td>ramen</td>\n",
       "    </tr>\n",
       "</table>"
      ],
      "text/plain": [
       "[('A', 'ramen'),\n",
       " ('B', 'curry'),\n",
       " ('B', 'ramen'),\n",
       " ('B', 'sushi'),\n",
       " ('C', 'ramen')]"
      ]
     },
     "execution_count": 6,
     "metadata": {},
     "output_type": "execute_result"
    }
   ],
   "source": [
    "%%sql\n",
    "\n",
    "WITH orders AS\n",
    "    (SELECT DISTINCT sales.customer_id AS Customer,\n",
    "        menu.product_name AS Product,\n",
    "        COUNT(*) AS Count\n",
    "    FROM sales\n",
    "        JOIN menu USING(product_id)\n",
    "    GROUP BY 1, 2)\n",
    "    \n",
    "SELECT T1.Customer, T1.Product\n",
    "FROM orders AS T1\n",
    "    JOIN (SELECT Customer, MAX(Count) AS Max_Count FROM orders GROUP BY Customer) AS T2\n",
    "    ON T1.Customer = T2.Customer AND T1.Count = T2.Max_Count;"
   ]
  },
  {
   "cell_type": "markdown",
   "id": "5bdd689a",
   "metadata": {},
   "source": [
    "**6. Which item was purchased first by the customer after they became a member? (including their join date)**"
   ]
  },
  {
   "cell_type": "code",
   "execution_count": 7,
   "id": "77bfa385",
   "metadata": {},
   "outputs": [
    {
     "name": "stdout",
     "output_type": "stream",
     "text": [
      " * sqlite:///1_Dannys_Diner.db\n",
      "Done.\n"
     ]
    },
    {
     "data": {
      "text/html": [
       "<table>\n",
       "    <tr>\n",
       "        <th>Customer</th>\n",
       "        <th>Product</th>\n",
       "    </tr>\n",
       "    <tr>\n",
       "        <td>A</td>\n",
       "        <td>curry</td>\n",
       "    </tr>\n",
       "    <tr>\n",
       "        <td>B</td>\n",
       "        <td>sushi</td>\n",
       "    </tr>\n",
       "</table>"
      ],
      "text/plain": [
       "[('A', 'curry'), ('B', 'sushi')]"
      ]
     },
     "execution_count": 7,
     "metadata": {},
     "output_type": "execute_result"
    }
   ],
   "source": [
    "%%sql\n",
    "\n",
    "WITH after_joining AS\n",
    "    (SELECT sales.customer_id AS Customer,\n",
    "        menu.product_name AS Product,\n",
    "        sales.order_date AS Date\n",
    "    FROM sales\n",
    "        JOIN menu USING (product_id)\n",
    "        JOIN members USING (customer_id)\n",
    "    WHERE sales.order_date >= members.join_date)\n",
    "\n",
    "SELECT T1.Customer, T1.Product\n",
    "FROM after_joining AS T1\n",
    "    JOIN (SELECT Customer, MIN(Date) AS Min_Date FROM after_joining GROUP BY Customer) AS T2\n",
    "    ON T1.Customer = T2.Customer AND T1.Date = T2.Min_Date;"
   ]
  },
  {
   "cell_type": "markdown",
   "id": "fd8629c3",
   "metadata": {},
   "source": [
    "**7. Which item was purchased just before the customer became a member? (including their join date)**"
   ]
  },
  {
   "cell_type": "code",
   "execution_count": 8,
   "id": "03ef2297",
   "metadata": {},
   "outputs": [
    {
     "name": "stdout",
     "output_type": "stream",
     "text": [
      " * sqlite:///1_Dannys_Diner.db\n",
      "Done.\n"
     ]
    },
    {
     "data": {
      "text/html": [
       "<table>\n",
       "    <tr>\n",
       "        <th>Customer</th>\n",
       "        <th>Product</th>\n",
       "    </tr>\n",
       "    <tr>\n",
       "        <td>A</td>\n",
       "        <td>curry</td>\n",
       "    </tr>\n",
       "    <tr>\n",
       "        <td>B</td>\n",
       "        <td>sushi</td>\n",
       "    </tr>\n",
       "</table>"
      ],
      "text/plain": [
       "[('A', 'curry'), ('B', 'sushi')]"
      ]
     },
     "execution_count": 8,
     "metadata": {},
     "output_type": "execute_result"
    }
   ],
   "source": [
    "%%sql\n",
    "\n",
    "WITH after_joining AS\n",
    "    (SELECT sales.customer_id AS Customer,\n",
    "        menu.product_name AS Product,\n",
    "        sales.order_date AS Date\n",
    "    FROM sales\n",
    "        JOIN menu USING (product_id)\n",
    "        JOIN members USING (customer_id)\n",
    "    WHERE sales.order_date <= members.join_date)\n",
    "\n",
    "SELECT T1.Customer, T1.Product\n",
    "FROM after_joining AS T1\n",
    "    JOIN (SELECT Customer, MAX(Date) AS Max_Date FROM after_joining GROUP BY Customer) AS T2\n",
    "    ON T1.Customer = T2.Customer AND T1.Date = T2.Max_Date;"
   ]
  },
  {
   "cell_type": "markdown",
   "id": "3d245723",
   "metadata": {},
   "source": [
    "**8. What is the total items and amount spent for each member before they became a member? (including their join date)**"
   ]
  },
  {
   "cell_type": "code",
   "execution_count": 9,
   "id": "1ea1189a",
   "metadata": {},
   "outputs": [
    {
     "name": "stdout",
     "output_type": "stream",
     "text": [
      " * sqlite:///1_Dannys_Diner.db\n",
      "Done.\n"
     ]
    },
    {
     "data": {
      "text/html": [
       "<table>\n",
       "    <tr>\n",
       "        <th>Customer</th>\n",
       "        <th>Items</th>\n",
       "        <th>Price</th>\n",
       "    </tr>\n",
       "    <tr>\n",
       "        <td>A</td>\n",
       "        <td>3</td>\n",
       "        <td>40</td>\n",
       "    </tr>\n",
       "    <tr>\n",
       "        <td>B</td>\n",
       "        <td>3</td>\n",
       "        <td>40</td>\n",
       "    </tr>\n",
       "</table>"
      ],
      "text/plain": [
       "[('A', 3, 40), ('B', 3, 40)]"
      ]
     },
     "execution_count": 9,
     "metadata": {},
     "output_type": "execute_result"
    }
   ],
   "source": [
    "%%sql\n",
    "\n",
    "SELECT sales.customer_id AS Customer,\n",
    "    COUNT(menu.product_name) AS Items,\n",
    "    SUM(menu.price) AS Price\n",
    "FROM sales\n",
    "    JOIN menu USING (product_id)\n",
    "    JOIN members USING (customer_id)\n",
    "WHERE sales.order_date <= members.join_date\n",
    "GROUP BY 1;"
   ]
  },
  {
   "cell_type": "markdown",
   "id": "d7a9c0f5",
   "metadata": {},
   "source": [
    "**9. If each $1 spent equates to 10 points and sushi has a 2x points multiplier - how many points would each customer have?**"
   ]
  },
  {
   "cell_type": "code",
   "execution_count": 10,
   "id": "ab6dd76f",
   "metadata": {},
   "outputs": [
    {
     "name": "stdout",
     "output_type": "stream",
     "text": [
      " * sqlite:///1_Dannys_Diner.db\n",
      "Done.\n"
     ]
    },
    {
     "data": {
      "text/html": [
       "<table>\n",
       "    <tr>\n",
       "        <th>Customer</th>\n",
       "        <th>SUM(Units)</th>\n",
       "    </tr>\n",
       "    <tr>\n",
       "        <td>A</td>\n",
       "        <td>860</td>\n",
       "    </tr>\n",
       "    <tr>\n",
       "        <td>B</td>\n",
       "        <td>940</td>\n",
       "    </tr>\n",
       "    <tr>\n",
       "        <td>C</td>\n",
       "        <td>360</td>\n",
       "    </tr>\n",
       "</table>"
      ],
      "text/plain": [
       "[('A', 860), ('B', 940), ('C', 360)]"
      ]
     },
     "execution_count": 10,
     "metadata": {},
     "output_type": "execute_result"
    }
   ],
   "source": [
    "%%sql\n",
    "\n",
    "WITH points AS\n",
    "    (SELECT sales.customer_id AS Customer,\n",
    "        menu.product_name AS Product,\n",
    "        CASE WHEN menu.product_name = \"sushi\" THEN SUM(menu.price) * 10 * 2 ELSE SUM(menu.price) * 10 END AS Units \n",
    "    FROM sales\n",
    "        JOIN menu USING (product_id)\n",
    "    GROUP BY 1, 2)\n",
    "\n",
    "SELECT Customer, SUM(Units)\n",
    "FROM points\n",
    "GROUP BY 1;"
   ]
  },
  {
   "cell_type": "markdown",
   "id": "ca2b3594",
   "metadata": {},
   "source": [
    "**10. In the first week after a customer joins the program (including their join date) they earn 2x points on all items, not just sushi - how many points do customer A and B have at the end of January?**"
   ]
  },
  {
   "cell_type": "code",
   "execution_count": 11,
   "id": "537f0551",
   "metadata": {},
   "outputs": [
    {
     "name": "stdout",
     "output_type": "stream",
     "text": [
      " * sqlite:///1_Dannys_Diner.db\n",
      "Done.\n"
     ]
    },
    {
     "data": {
      "text/html": [
       "<table>\n",
       "    <tr>\n",
       "        <th>Customer</th>\n",
       "        <th>SUM(Units)</th>\n",
       "    </tr>\n",
       "    <tr>\n",
       "        <td>A</td>\n",
       "        <td>1370</td>\n",
       "    </tr>\n",
       "    <tr>\n",
       "        <td>B</td>\n",
       "        <td>820</td>\n",
       "    </tr>\n",
       "</table>"
      ],
      "text/plain": [
       "[('A', 1370), ('B', 820)]"
      ]
     },
     "execution_count": 11,
     "metadata": {},
     "output_type": "execute_result"
    }
   ],
   "source": [
    "%%sql\n",
    "\n",
    "WITH members_points AS\n",
    "    (SELECT sales.customer_id AS Customer,\n",
    "        sales.order_date AS Date,\n",
    "        menu.product_name AS Product,\n",
    "        CASE\n",
    "            WHEN sales.order_date BETWEEN members.join_date AND DATE(members.join_date, '+6 days') THEN SUM(menu.price) * 20\n",
    "            WHEN menu.product_name = \"sushi\" THEN SUM(menu.price) * 20\n",
    "            ELSE SUM(menu.price) * 10 END AS Units \n",
    "    FROM sales\n",
    "        JOIN menu USING (product_id)\n",
    "        JOIN members USING (customer_id)\n",
    "    WHERE sales.order_date <= '2021-01-31'\n",
    "    GROUP BY 1, 2, 3)\n",
    "\n",
    "SELECT Customer, SUM(Units)\n",
    "FROM members_points\n",
    "GROUP BY 1;"
   ]
  },
  {
   "cell_type": "markdown",
   "id": "c304291f",
   "metadata": {},
   "source": [
    "## Bonus Questions:"
   ]
  },
  {
   "cell_type": "markdown",
   "id": "3cbd186a",
   "metadata": {},
   "source": [
    "### __Join All The Things To recreate [this table](https://8weeksqlchallenge.com/case-study-1/#:~:text=Bonus%20Questions-,Join%20All%20The%20Things,-The%20following%20questions).__"
   ]
  },
  {
   "cell_type": "code",
   "execution_count": 12,
   "id": "895086f5",
   "metadata": {},
   "outputs": [
    {
     "name": "stdout",
     "output_type": "stream",
     "text": [
      " * sqlite:///1_Dannys_Diner.db\n",
      "Done.\n"
     ]
    },
    {
     "data": {
      "text/html": [
       "<table>\n",
       "    <tr>\n",
       "        <th>customer_id</th>\n",
       "        <th>order_date</th>\n",
       "        <th>product_name</th>\n",
       "        <th>price</th>\n",
       "        <th>member</th>\n",
       "    </tr>\n",
       "    <tr>\n",
       "        <td>A</td>\n",
       "        <td>2021-01-01</td>\n",
       "        <td>sushi</td>\n",
       "        <td>10</td>\n",
       "        <td>N</td>\n",
       "    </tr>\n",
       "    <tr>\n",
       "        <td>A</td>\n",
       "        <td>2021-01-01</td>\n",
       "        <td>curry</td>\n",
       "        <td>15</td>\n",
       "        <td>N</td>\n",
       "    </tr>\n",
       "    <tr>\n",
       "        <td>A</td>\n",
       "        <td>2021-01-07</td>\n",
       "        <td>curry</td>\n",
       "        <td>15</td>\n",
       "        <td>Y</td>\n",
       "    </tr>\n",
       "    <tr>\n",
       "        <td>A</td>\n",
       "        <td>2021-01-10</td>\n",
       "        <td>ramen</td>\n",
       "        <td>12</td>\n",
       "        <td>Y</td>\n",
       "    </tr>\n",
       "    <tr>\n",
       "        <td>A</td>\n",
       "        <td>2021-01-11</td>\n",
       "        <td>ramen</td>\n",
       "        <td>12</td>\n",
       "        <td>Y</td>\n",
       "    </tr>\n",
       "    <tr>\n",
       "        <td>A</td>\n",
       "        <td>2021-01-11</td>\n",
       "        <td>ramen</td>\n",
       "        <td>12</td>\n",
       "        <td>Y</td>\n",
       "    </tr>\n",
       "    <tr>\n",
       "        <td>B</td>\n",
       "        <td>2021-01-01</td>\n",
       "        <td>curry</td>\n",
       "        <td>15</td>\n",
       "        <td>N</td>\n",
       "    </tr>\n",
       "    <tr>\n",
       "        <td>B</td>\n",
       "        <td>2021-01-02</td>\n",
       "        <td>curry</td>\n",
       "        <td>15</td>\n",
       "        <td>N</td>\n",
       "    </tr>\n",
       "    <tr>\n",
       "        <td>B</td>\n",
       "        <td>2021-01-04</td>\n",
       "        <td>sushi</td>\n",
       "        <td>10</td>\n",
       "        <td>N</td>\n",
       "    </tr>\n",
       "    <tr>\n",
       "        <td>B</td>\n",
       "        <td>2021-01-11</td>\n",
       "        <td>sushi</td>\n",
       "        <td>10</td>\n",
       "        <td>Y</td>\n",
       "    </tr>\n",
       "    <tr>\n",
       "        <td>B</td>\n",
       "        <td>2021-01-16</td>\n",
       "        <td>ramen</td>\n",
       "        <td>12</td>\n",
       "        <td>Y</td>\n",
       "    </tr>\n",
       "    <tr>\n",
       "        <td>B</td>\n",
       "        <td>2021-02-01</td>\n",
       "        <td>ramen</td>\n",
       "        <td>12</td>\n",
       "        <td>Y</td>\n",
       "    </tr>\n",
       "    <tr>\n",
       "        <td>C</td>\n",
       "        <td>2021-01-01</td>\n",
       "        <td>ramen</td>\n",
       "        <td>12</td>\n",
       "        <td>N</td>\n",
       "    </tr>\n",
       "    <tr>\n",
       "        <td>C</td>\n",
       "        <td>2021-01-01</td>\n",
       "        <td>ramen</td>\n",
       "        <td>12</td>\n",
       "        <td>N</td>\n",
       "    </tr>\n",
       "    <tr>\n",
       "        <td>C</td>\n",
       "        <td>2021-01-07</td>\n",
       "        <td>ramen</td>\n",
       "        <td>12</td>\n",
       "        <td>N</td>\n",
       "    </tr>\n",
       "</table>"
      ],
      "text/plain": [
       "[('A', '2021-01-01', 'sushi', 10, 'N'),\n",
       " ('A', '2021-01-01', 'curry', 15, 'N'),\n",
       " ('A', '2021-01-07', 'curry', 15, 'Y'),\n",
       " ('A', '2021-01-10', 'ramen', 12, 'Y'),\n",
       " ('A', '2021-01-11', 'ramen', 12, 'Y'),\n",
       " ('A', '2021-01-11', 'ramen', 12, 'Y'),\n",
       " ('B', '2021-01-01', 'curry', 15, 'N'),\n",
       " ('B', '2021-01-02', 'curry', 15, 'N'),\n",
       " ('B', '2021-01-04', 'sushi', 10, 'N'),\n",
       " ('B', '2021-01-11', 'sushi', 10, 'Y'),\n",
       " ('B', '2021-01-16', 'ramen', 12, 'Y'),\n",
       " ('B', '2021-02-01', 'ramen', 12, 'Y'),\n",
       " ('C', '2021-01-01', 'ramen', 12, 'N'),\n",
       " ('C', '2021-01-01', 'ramen', 12, 'N'),\n",
       " ('C', '2021-01-07', 'ramen', 12, 'N')]"
      ]
     },
     "execution_count": 12,
     "metadata": {},
     "output_type": "execute_result"
    }
   ],
   "source": [
    "%%sql\n",
    "\n",
    "SELECT sales.customer_id, sales.order_date, menu.product_name, menu.price,\n",
    "    CASE WHEN sales.customer_id IN (SELECT customer_id FROM members) AND sales.order_date >= members.join_date THEN 'Y'\n",
    "    ELSE 'N' END AS member\n",
    "FROM sales\n",
    "    JOIN menu USING (product_id)\n",
    "    LEFT JOIN members USING (customer_id);"
   ]
  },
  {
   "cell_type": "markdown",
   "id": "0fd93756",
   "metadata": {},
   "source": [
    "### __Rank All The Things To recreate [this table](https://8weeksqlchallenge.com/case-study-1/#:~:text=N-,Rank%20All%20The%20Things,-Danny%20also%20requires).__"
   ]
  },
  {
   "cell_type": "code",
   "execution_count": 13,
   "id": "2b8398d3",
   "metadata": {},
   "outputs": [
    {
     "name": "stdout",
     "output_type": "stream",
     "text": [
      " * sqlite:///1_Dannys_Diner.db\n",
      "Done.\n"
     ]
    },
    {
     "data": {
      "text/html": [
       "<table>\n",
       "    <tr>\n",
       "        <th>customer_id</th>\n",
       "        <th>order_date</th>\n",
       "        <th>product_name</th>\n",
       "        <th>price</th>\n",
       "        <th>member</th>\n",
       "        <th>ranking</th>\n",
       "    </tr>\n",
       "    <tr>\n",
       "        <td>A</td>\n",
       "        <td>2021-01-01</td>\n",
       "        <td>sushi</td>\n",
       "        <td>10</td>\n",
       "        <td>N</td>\n",
       "        <td>None</td>\n",
       "    </tr>\n",
       "    <tr>\n",
       "        <td>A</td>\n",
       "        <td>2021-01-01</td>\n",
       "        <td>curry</td>\n",
       "        <td>15</td>\n",
       "        <td>N</td>\n",
       "        <td>None</td>\n",
       "    </tr>\n",
       "    <tr>\n",
       "        <td>A</td>\n",
       "        <td>2021-01-07</td>\n",
       "        <td>curry</td>\n",
       "        <td>15</td>\n",
       "        <td>Y</td>\n",
       "        <td>1</td>\n",
       "    </tr>\n",
       "    <tr>\n",
       "        <td>A</td>\n",
       "        <td>2021-01-10</td>\n",
       "        <td>ramen</td>\n",
       "        <td>12</td>\n",
       "        <td>Y</td>\n",
       "        <td>2</td>\n",
       "    </tr>\n",
       "    <tr>\n",
       "        <td>A</td>\n",
       "        <td>2021-01-11</td>\n",
       "        <td>ramen</td>\n",
       "        <td>12</td>\n",
       "        <td>Y</td>\n",
       "        <td>3</td>\n",
       "    </tr>\n",
       "    <tr>\n",
       "        <td>A</td>\n",
       "        <td>2021-01-11</td>\n",
       "        <td>ramen</td>\n",
       "        <td>12</td>\n",
       "        <td>Y</td>\n",
       "        <td>3</td>\n",
       "    </tr>\n",
       "    <tr>\n",
       "        <td>B</td>\n",
       "        <td>2021-01-01</td>\n",
       "        <td>curry</td>\n",
       "        <td>15</td>\n",
       "        <td>N</td>\n",
       "        <td>None</td>\n",
       "    </tr>\n",
       "    <tr>\n",
       "        <td>B</td>\n",
       "        <td>2021-01-02</td>\n",
       "        <td>curry</td>\n",
       "        <td>15</td>\n",
       "        <td>N</td>\n",
       "        <td>None</td>\n",
       "    </tr>\n",
       "    <tr>\n",
       "        <td>B</td>\n",
       "        <td>2021-01-04</td>\n",
       "        <td>sushi</td>\n",
       "        <td>10</td>\n",
       "        <td>N</td>\n",
       "        <td>None</td>\n",
       "    </tr>\n",
       "    <tr>\n",
       "        <td>B</td>\n",
       "        <td>2021-01-11</td>\n",
       "        <td>sushi</td>\n",
       "        <td>10</td>\n",
       "        <td>Y</td>\n",
       "        <td>1</td>\n",
       "    </tr>\n",
       "    <tr>\n",
       "        <td>B</td>\n",
       "        <td>2021-01-16</td>\n",
       "        <td>ramen</td>\n",
       "        <td>12</td>\n",
       "        <td>Y</td>\n",
       "        <td>2</td>\n",
       "    </tr>\n",
       "    <tr>\n",
       "        <td>B</td>\n",
       "        <td>2021-02-01</td>\n",
       "        <td>ramen</td>\n",
       "        <td>12</td>\n",
       "        <td>Y</td>\n",
       "        <td>3</td>\n",
       "    </tr>\n",
       "    <tr>\n",
       "        <td>C</td>\n",
       "        <td>2021-01-01</td>\n",
       "        <td>ramen</td>\n",
       "        <td>12</td>\n",
       "        <td>N</td>\n",
       "        <td>None</td>\n",
       "    </tr>\n",
       "    <tr>\n",
       "        <td>C</td>\n",
       "        <td>2021-01-01</td>\n",
       "        <td>ramen</td>\n",
       "        <td>12</td>\n",
       "        <td>N</td>\n",
       "        <td>None</td>\n",
       "    </tr>\n",
       "    <tr>\n",
       "        <td>C</td>\n",
       "        <td>2021-01-07</td>\n",
       "        <td>ramen</td>\n",
       "        <td>12</td>\n",
       "        <td>N</td>\n",
       "        <td>None</td>\n",
       "    </tr>\n",
       "</table>"
      ],
      "text/plain": [
       "[('A', '2021-01-01', 'sushi', 10, 'N', None),\n",
       " ('A', '2021-01-01', 'curry', 15, 'N', None),\n",
       " ('A', '2021-01-07', 'curry', 15, 'Y', 1),\n",
       " ('A', '2021-01-10', 'ramen', 12, 'Y', 2),\n",
       " ('A', '2021-01-11', 'ramen', 12, 'Y', 3),\n",
       " ('A', '2021-01-11', 'ramen', 12, 'Y', 3),\n",
       " ('B', '2021-01-01', 'curry', 15, 'N', None),\n",
       " ('B', '2021-01-02', 'curry', 15, 'N', None),\n",
       " ('B', '2021-01-04', 'sushi', 10, 'N', None),\n",
       " ('B', '2021-01-11', 'sushi', 10, 'Y', 1),\n",
       " ('B', '2021-01-16', 'ramen', 12, 'Y', 2),\n",
       " ('B', '2021-02-01', 'ramen', 12, 'Y', 3),\n",
       " ('C', '2021-01-01', 'ramen', 12, 'N', None),\n",
       " ('C', '2021-01-01', 'ramen', 12, 'N', None),\n",
       " ('C', '2021-01-07', 'ramen', 12, 'N', None)]"
      ]
     },
     "execution_count": 13,
     "metadata": {},
     "output_type": "execute_result"
    }
   ],
   "source": [
    "%%sql\n",
    "\n",
    "WITH cte AS\n",
    "    (SELECT sales.customer_id, sales.order_date, menu.product_name, menu.price,\n",
    "        CASE WHEN sales.customer_id IN (SELECT customer_id FROM members) AND sales.order_date >= members.join_date THEN 'Y'\n",
    "        ELSE 'N' END AS member\n",
    "    FROM sales\n",
    "        JOIN menu USING (product_id)\n",
    "        LEFT JOIN members USING (customer_id))\n",
    "\n",
    "SELECT *, CASE WHEN member = 'N' THEN null\n",
    "    ELSE  RANK() OVER(PARTITION BY customer_id, member ORDER BY order_date)\n",
    "    END AS ranking\n",
    "FROM cte;"
   ]
  }
 ],
 "metadata": {
  "kernelspec": {
   "display_name": "Python 3 (ipykernel)",
   "language": "python",
   "name": "python3"
  },
  "language_info": {
   "codemirror_mode": {
    "name": "ipython",
    "version": 3
   },
   "file_extension": ".py",
   "mimetype": "text/x-python",
   "name": "python",
   "nbconvert_exporter": "python",
   "pygments_lexer": "ipython3",
   "version": "3.9.13"
  }
 },
 "nbformat": 4,
 "nbformat_minor": 5
}
